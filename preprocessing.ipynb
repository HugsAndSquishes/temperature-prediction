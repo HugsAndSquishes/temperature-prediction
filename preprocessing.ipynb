{
 "cells": [
  {
   "cell_type": "code",
   "execution_count": 20,
   "metadata": {},
   "outputs": [],
   "source": [
    "import pandas as pd\n",
    "import matplotlib.pyplot as plt\n",
    "import seaborn as sns\n"
   ]
  },
  {
   "cell_type": "code",
   "execution_count": null,
   "metadata": {},
   "outputs": [],
   "source": [
    "# TODO: create seperate a file for preprocessed data??\n",
    "df = pd.read_csv('data/average-monthly-surface-temperature.csv')\n",
    "df.reset_index()\n",
    "df = df.rename(columns={'Average surface temperature': 'Daily Average Temp', 'Average surface temperature.1': 'Monthly Average Temp'})"
   ]
  },
  {
   "cell_type": "code",
   "execution_count": 3,
   "metadata": {},
   "outputs": [
    {
     "data": {
      "text/html": [
       "<div>\n",
       "<style scoped>\n",
       "    .dataframe tbody tr th:only-of-type {\n",
       "        vertical-align: middle;\n",
       "    }\n",
       "\n",
       "    .dataframe tbody tr th {\n",
       "        vertical-align: top;\n",
       "    }\n",
       "\n",
       "    .dataframe thead th {\n",
       "        text-align: right;\n",
       "    }\n",
       "</style>\n",
       "<table border=\"1\" class=\"dataframe\">\n",
       "  <thead>\n",
       "    <tr style=\"text-align: right;\">\n",
       "      <th></th>\n",
       "      <th>Entity</th>\n",
       "      <th>Code</th>\n",
       "      <th>year</th>\n",
       "      <th>Day</th>\n",
       "      <th>Average Low Temp</th>\n",
       "      <th>Average High Temp</th>\n",
       "    </tr>\n",
       "  </thead>\n",
       "  <tbody>\n",
       "    <tr>\n",
       "      <th>40148</th>\n",
       "      <td>Comoros</td>\n",
       "      <td>COM</td>\n",
       "      <td>1970</td>\n",
       "      <td>1970-09-15</td>\n",
       "      <td>23.528380</td>\n",
       "      <td>24.711893</td>\n",
       "    </tr>\n",
       "    <tr>\n",
       "      <th>96151</th>\n",
       "      <td>Jordan</td>\n",
       "      <td>JOR</td>\n",
       "      <td>1962</td>\n",
       "      <td>1962-08-15</td>\n",
       "      <td>28.630346</td>\n",
       "      <td>19.282870</td>\n",
       "    </tr>\n",
       "    <tr>\n",
       "      <th>156924</th>\n",
       "      <td>Senegal</td>\n",
       "      <td>SEN</td>\n",
       "      <td>2012</td>\n",
       "      <td>2012-01-15</td>\n",
       "      <td>25.184510</td>\n",
       "      <td>28.598068</td>\n",
       "    </tr>\n",
       "    <tr>\n",
       "      <th>23173</th>\n",
       "      <td>Bosnia and Herzegovina</td>\n",
       "      <td>BIH</td>\n",
       "      <td>2001</td>\n",
       "      <td>2001-02-15</td>\n",
       "      <td>2.549963</td>\n",
       "      <td>10.090752</td>\n",
       "    </tr>\n",
       "    <tr>\n",
       "      <th>161177</th>\n",
       "      <td>Slovenia</td>\n",
       "      <td>SVN</td>\n",
       "      <td>1941</td>\n",
       "      <td>1941-06-15</td>\n",
       "      <td>16.695732</td>\n",
       "      <td>7.278540</td>\n",
       "    </tr>\n",
       "  </tbody>\n",
       "</table>\n",
       "</div>"
      ],
      "text/plain": [
       "                        Entity Code  year         Day  Average Low Temp  \\\n",
       "40148                  Comoros  COM  1970  1970-09-15         23.528380   \n",
       "96151                   Jordan  JOR  1962  1962-08-15         28.630346   \n",
       "156924                 Senegal  SEN  2012  2012-01-15         25.184510   \n",
       "23173   Bosnia and Herzegovina  BIH  2001  2001-02-15          2.549963   \n",
       "161177                Slovenia  SVN  1941  1941-06-15         16.695732   \n",
       "\n",
       "        Average High Temp  \n",
       "40148           24.711893  \n",
       "96151           19.282870  \n",
       "156924          28.598068  \n",
       "23173           10.090752  \n",
       "161177           7.278540  "
      ]
     },
     "execution_count": 3,
     "metadata": {},
     "output_type": "execute_result"
    }
   ],
   "source": [
    "df.sample(5)"
   ]
  },
  {
   "cell_type": "code",
   "execution_count": 4,
   "metadata": {},
   "outputs": [
    {
     "name": "stdout",
     "output_type": "stream",
     "text": [
      "<class 'pandas.core.frame.DataFrame'>\n",
      "RangeIndex: 198900 entries, 0 to 198899\n",
      "Data columns (total 6 columns):\n",
      " #   Column             Non-Null Count   Dtype  \n",
      "---  ------             --------------   -----  \n",
      " 0   Entity             198900 non-null  object \n",
      " 1   Code               198900 non-null  object \n",
      " 2   year               198900 non-null  int64  \n",
      " 3   Day                198900 non-null  object \n",
      " 4   Average Low Temp   198900 non-null  float64\n",
      " 5   Average High Temp  198900 non-null  float64\n",
      "dtypes: float64(2), int64(1), object(3)\n",
      "memory usage: 9.1+ MB\n"
     ]
    }
   ],
   "source": [
    "df.info()"
   ]
  },
  {
   "cell_type": "code",
   "execution_count": 5,
   "metadata": {},
   "outputs": [
    {
     "data": {
      "text/html": [
       "<div>\n",
       "<style scoped>\n",
       "    .dataframe tbody tr th:only-of-type {\n",
       "        vertical-align: middle;\n",
       "    }\n",
       "\n",
       "    .dataframe tbody tr th {\n",
       "        vertical-align: top;\n",
       "    }\n",
       "\n",
       "    .dataframe thead th {\n",
       "        text-align: right;\n",
       "    }\n",
       "</style>\n",
       "<table border=\"1\" class=\"dataframe\">\n",
       "  <thead>\n",
       "    <tr style=\"text-align: right;\">\n",
       "      <th></th>\n",
       "      <th>year</th>\n",
       "      <th>Average Low Temp</th>\n",
       "      <th>Average High Temp</th>\n",
       "    </tr>\n",
       "  </thead>\n",
       "  <tbody>\n",
       "    <tr>\n",
       "      <th>count</th>\n",
       "      <td>198900.00000</td>\n",
       "      <td>198900.000000</td>\n",
       "      <td>198900.000000</td>\n",
       "    </tr>\n",
       "    <tr>\n",
       "      <th>mean</th>\n",
       "      <td>1982.00000</td>\n",
       "      <td>18.072073</td>\n",
       "      <td>18.072073</td>\n",
       "    </tr>\n",
       "    <tr>\n",
       "      <th>std</th>\n",
       "      <td>24.53575</td>\n",
       "      <td>10.246142</td>\n",
       "      <td>8.710114</td>\n",
       "    </tr>\n",
       "    <tr>\n",
       "      <th>min</th>\n",
       "      <td>1940.00000</td>\n",
       "      <td>-36.240032</td>\n",
       "      <td>-21.529121</td>\n",
       "    </tr>\n",
       "    <tr>\n",
       "      <th>25%</th>\n",
       "      <td>1961.00000</td>\n",
       "      <td>12.304079</td>\n",
       "      <td>10.569263</td>\n",
       "    </tr>\n",
       "    <tr>\n",
       "      <th>50%</th>\n",
       "      <td>1982.00000</td>\n",
       "      <td>22.055794</td>\n",
       "      <td>21.856285</td>\n",
       "    </tr>\n",
       "    <tr>\n",
       "      <th>75%</th>\n",
       "      <td>2003.00000</td>\n",
       "      <td>25.317015</td>\n",
       "      <td>25.142885</td>\n",
       "    </tr>\n",
       "    <tr>\n",
       "      <th>max</th>\n",
       "      <td>2024.00000</td>\n",
       "      <td>39.889374</td>\n",
       "      <td>29.794220</td>\n",
       "    </tr>\n",
       "  </tbody>\n",
       "</table>\n",
       "</div>"
      ],
      "text/plain": [
       "               year  Average Low Temp  Average High Temp\n",
       "count  198900.00000     198900.000000      198900.000000\n",
       "mean     1982.00000         18.072073          18.072073\n",
       "std        24.53575         10.246142           8.710114\n",
       "min      1940.00000        -36.240032         -21.529121\n",
       "25%      1961.00000         12.304079          10.569263\n",
       "50%      1982.00000         22.055794          21.856285\n",
       "75%      2003.00000         25.317015          25.142885\n",
       "max      2024.00000         39.889374          29.794220"
      ]
     },
     "execution_count": 5,
     "metadata": {},
     "output_type": "execute_result"
    }
   ],
   "source": [
    "df.describe()"
   ]
  },
  {
   "cell_type": "markdown",
   "metadata": {},
   "source": [
    "# Missing values"
   ]
  },
  {
   "cell_type": "code",
   "execution_count": 6,
   "metadata": {},
   "outputs": [
    {
     "name": "stdout",
     "output_type": "stream",
     "text": [
      "Missing Values:\n",
      "Entity               0\n",
      "Code                 0\n",
      "year                 0\n",
      "Day                  0\n",
      "Average Low Temp     0\n",
      "Average High Temp    0\n",
      "dtype: int64\n"
     ]
    }
   ],
   "source": [
    "missing_values = df.isnull().sum()\n",
    "print(\"Missing Values:\")\n",
    "print(missing_values)\n",
    "\n",
    "# there are no missing values"
   ]
  },
  {
   "cell_type": "markdown",
   "metadata": {},
   "source": [
    "# Duplicates"
   ]
  },
  {
   "cell_type": "code",
   "execution_count": 7,
   "metadata": {},
   "outputs": [
    {
     "name": "stdout",
     "output_type": "stream",
     "text": [
      "Duplicate Rows:\n",
      "Empty DataFrame\n",
      "Columns: [Entity, Code, year, Day, Average Low Temp, Average High Temp]\n",
      "Index: []\n"
     ]
    }
   ],
   "source": [
    "duplicate_rows = df[df.duplicated()]\n",
    "print(\"Duplicate Rows:\")\n",
    "print(duplicate_rows)\n",
    "\n",
    "# there are no duplicate rows"
   ]
  },
  {
   "cell_type": "markdown",
   "metadata": {},
   "source": [
    "# Convert Data Types"
   ]
  },
  {
   "cell_type": "code",
   "execution_count": 8,
   "metadata": {},
   "outputs": [
    {
     "data": {
      "text/html": [
       "<div>\n",
       "<style scoped>\n",
       "    .dataframe tbody tr th:only-of-type {\n",
       "        vertical-align: middle;\n",
       "    }\n",
       "\n",
       "    .dataframe tbody tr th {\n",
       "        vertical-align: top;\n",
       "    }\n",
       "\n",
       "    .dataframe thead th {\n",
       "        text-align: right;\n",
       "    }\n",
       "</style>\n",
       "<table border=\"1\" class=\"dataframe\">\n",
       "  <thead>\n",
       "    <tr style=\"text-align: right;\">\n",
       "      <th></th>\n",
       "      <th>Entity</th>\n",
       "      <th>Code</th>\n",
       "      <th>year</th>\n",
       "      <th>Day</th>\n",
       "      <th>Average Low Temp</th>\n",
       "      <th>Average High Temp</th>\n",
       "    </tr>\n",
       "  </thead>\n",
       "  <tbody>\n",
       "    <tr>\n",
       "      <th>0</th>\n",
       "      <td>Afghanistan</td>\n",
       "      <td>AFG</td>\n",
       "      <td>1940</td>\n",
       "      <td>1940-01-15</td>\n",
       "      <td>-2.032494</td>\n",
       "      <td>11.327695</td>\n",
       "    </tr>\n",
       "    <tr>\n",
       "      <th>1</th>\n",
       "      <td>Afghanistan</td>\n",
       "      <td>AFG</td>\n",
       "      <td>1940</td>\n",
       "      <td>1940-02-15</td>\n",
       "      <td>-0.733503</td>\n",
       "      <td>11.327695</td>\n",
       "    </tr>\n",
       "    <tr>\n",
       "      <th>2</th>\n",
       "      <td>Afghanistan</td>\n",
       "      <td>AFG</td>\n",
       "      <td>1940</td>\n",
       "      <td>1940-03-15</td>\n",
       "      <td>1.999134</td>\n",
       "      <td>11.327695</td>\n",
       "    </tr>\n",
       "    <tr>\n",
       "      <th>3</th>\n",
       "      <td>Afghanistan</td>\n",
       "      <td>AFG</td>\n",
       "      <td>1940</td>\n",
       "      <td>1940-04-15</td>\n",
       "      <td>10.199754</td>\n",
       "      <td>11.327695</td>\n",
       "    </tr>\n",
       "    <tr>\n",
       "      <th>4</th>\n",
       "      <td>Afghanistan</td>\n",
       "      <td>AFG</td>\n",
       "      <td>1940</td>\n",
       "      <td>1940-05-15</td>\n",
       "      <td>17.942135</td>\n",
       "      <td>11.327695</td>\n",
       "    </tr>\n",
       "    <tr>\n",
       "      <th>...</th>\n",
       "      <td>...</td>\n",
       "      <td>...</td>\n",
       "      <td>...</td>\n",
       "      <td>...</td>\n",
       "      <td>...</td>\n",
       "      <td>...</td>\n",
       "    </tr>\n",
       "    <tr>\n",
       "      <th>198895</th>\n",
       "      <td>Zimbabwe</td>\n",
       "      <td>ZWE</td>\n",
       "      <td>2024</td>\n",
       "      <td>2024-08-15</td>\n",
       "      <td>20.559408</td>\n",
       "      <td>22.921250</td>\n",
       "    </tr>\n",
       "    <tr>\n",
       "      <th>198896</th>\n",
       "      <td>Zimbabwe</td>\n",
       "      <td>ZWE</td>\n",
       "      <td>2024</td>\n",
       "      <td>2024-09-15</td>\n",
       "      <td>23.642931</td>\n",
       "      <td>22.921250</td>\n",
       "    </tr>\n",
       "    <tr>\n",
       "      <th>198897</th>\n",
       "      <td>Zimbabwe</td>\n",
       "      <td>ZWE</td>\n",
       "      <td>2024</td>\n",
       "      <td>2024-10-15</td>\n",
       "      <td>24.407030</td>\n",
       "      <td>22.921250</td>\n",
       "    </tr>\n",
       "    <tr>\n",
       "      <th>198898</th>\n",
       "      <td>Zimbabwe</td>\n",
       "      <td>ZWE</td>\n",
       "      <td>2024</td>\n",
       "      <td>2024-11-15</td>\n",
       "      <td>25.672321</td>\n",
       "      <td>22.921250</td>\n",
       "    </tr>\n",
       "    <tr>\n",
       "      <th>198899</th>\n",
       "      <td>Zimbabwe</td>\n",
       "      <td>ZWE</td>\n",
       "      <td>2024</td>\n",
       "      <td>2024-12-15</td>\n",
       "      <td>27.019161</td>\n",
       "      <td>22.921250</td>\n",
       "    </tr>\n",
       "  </tbody>\n",
       "</table>\n",
       "<p>198900 rows × 6 columns</p>\n",
       "</div>"
      ],
      "text/plain": [
       "             Entity Code  year        Day  Average Low Temp  Average High Temp\n",
       "0       Afghanistan  AFG  1940 1940-01-15         -2.032494          11.327695\n",
       "1       Afghanistan  AFG  1940 1940-02-15         -0.733503          11.327695\n",
       "2       Afghanistan  AFG  1940 1940-03-15          1.999134          11.327695\n",
       "3       Afghanistan  AFG  1940 1940-04-15         10.199754          11.327695\n",
       "4       Afghanistan  AFG  1940 1940-05-15         17.942135          11.327695\n",
       "...             ...  ...   ...        ...               ...                ...\n",
       "198895     Zimbabwe  ZWE  2024 2024-08-15         20.559408          22.921250\n",
       "198896     Zimbabwe  ZWE  2024 2024-09-15         23.642931          22.921250\n",
       "198897     Zimbabwe  ZWE  2024 2024-10-15         24.407030          22.921250\n",
       "198898     Zimbabwe  ZWE  2024 2024-11-15         25.672321          22.921250\n",
       "198899     Zimbabwe  ZWE  2024 2024-12-15         27.019161          22.921250\n",
       "\n",
       "[198900 rows x 6 columns]"
      ]
     },
     "execution_count": 8,
     "metadata": {},
     "output_type": "execute_result"
    }
   ],
   "source": [
    "df[\"Day\"] = pd.to_datetime(df[\"Day\"])\n",
    "df"
   ]
  },
  {
   "cell_type": "markdown",
   "metadata": {},
   "source": [
    "# Verifying Entity and Code columns"
   ]
  },
  {
   "cell_type": "code",
   "execution_count": 9,
   "metadata": {},
   "outputs": [],
   "source": [
    "for name, num_of_occurrences in df['Entity'].value_counts().items():\n",
    "    # check if every country has the same number of entries\n",
    "    if num_of_occurrences != 1020:\n",
    "        print(name, \"has\", num_of_occurrences)\n",
    "\n",
    "for name in df[\"Entity\"].unique():\n",
    "    # check if every country name (Entity column) matches the country code \n",
    "    correct_code = df.loc[df[\"Entity\"] == name].iloc[0][\"Code\"]      \n",
    "    incorrect_rows = df.loc[(df[\"Entity\"] == name) & (df[\"Code\"] != correct_code)]\n",
    "    if incorrect_rows.shape[0] > 0:\n",
    "        display(incorrect_rows)\n"
   ]
  },
  {
   "cell_type": "markdown",
   "metadata": {},
   "source": [
    "# Drop Unnecessary Columns"
   ]
  },
  {
   "cell_type": "code",
   "execution_count": 10,
   "metadata": {},
   "outputs": [
    {
     "data": {
      "text/html": [
       "<div>\n",
       "<style scoped>\n",
       "    .dataframe tbody tr th:only-of-type {\n",
       "        vertical-align: middle;\n",
       "    }\n",
       "\n",
       "    .dataframe tbody tr th {\n",
       "        vertical-align: top;\n",
       "    }\n",
       "\n",
       "    .dataframe thead th {\n",
       "        text-align: right;\n",
       "    }\n",
       "</style>\n",
       "<table border=\"1\" class=\"dataframe\">\n",
       "  <thead>\n",
       "    <tr style=\"text-align: right;\">\n",
       "      <th></th>\n",
       "      <th>Code</th>\n",
       "      <th>year</th>\n",
       "      <th>Day</th>\n",
       "      <th>Average Low Temp</th>\n",
       "      <th>Average High Temp</th>\n",
       "    </tr>\n",
       "  </thead>\n",
       "  <tbody>\n",
       "    <tr>\n",
       "      <th>0</th>\n",
       "      <td>AFG</td>\n",
       "      <td>1940</td>\n",
       "      <td>1940-01-15</td>\n",
       "      <td>-2.032494</td>\n",
       "      <td>11.327695</td>\n",
       "    </tr>\n",
       "    <tr>\n",
       "      <th>1</th>\n",
       "      <td>AFG</td>\n",
       "      <td>1940</td>\n",
       "      <td>1940-02-15</td>\n",
       "      <td>-0.733503</td>\n",
       "      <td>11.327695</td>\n",
       "    </tr>\n",
       "    <tr>\n",
       "      <th>2</th>\n",
       "      <td>AFG</td>\n",
       "      <td>1940</td>\n",
       "      <td>1940-03-15</td>\n",
       "      <td>1.999134</td>\n",
       "      <td>11.327695</td>\n",
       "    </tr>\n",
       "    <tr>\n",
       "      <th>3</th>\n",
       "      <td>AFG</td>\n",
       "      <td>1940</td>\n",
       "      <td>1940-04-15</td>\n",
       "      <td>10.199754</td>\n",
       "      <td>11.327695</td>\n",
       "    </tr>\n",
       "    <tr>\n",
       "      <th>4</th>\n",
       "      <td>AFG</td>\n",
       "      <td>1940</td>\n",
       "      <td>1940-05-15</td>\n",
       "      <td>17.942135</td>\n",
       "      <td>11.327695</td>\n",
       "    </tr>\n",
       "    <tr>\n",
       "      <th>...</th>\n",
       "      <td>...</td>\n",
       "      <td>...</td>\n",
       "      <td>...</td>\n",
       "      <td>...</td>\n",
       "      <td>...</td>\n",
       "    </tr>\n",
       "    <tr>\n",
       "      <th>198895</th>\n",
       "      <td>ZWE</td>\n",
       "      <td>2024</td>\n",
       "      <td>2024-08-15</td>\n",
       "      <td>20.559408</td>\n",
       "      <td>22.921250</td>\n",
       "    </tr>\n",
       "    <tr>\n",
       "      <th>198896</th>\n",
       "      <td>ZWE</td>\n",
       "      <td>2024</td>\n",
       "      <td>2024-09-15</td>\n",
       "      <td>23.642931</td>\n",
       "      <td>22.921250</td>\n",
       "    </tr>\n",
       "    <tr>\n",
       "      <th>198897</th>\n",
       "      <td>ZWE</td>\n",
       "      <td>2024</td>\n",
       "      <td>2024-10-15</td>\n",
       "      <td>24.407030</td>\n",
       "      <td>22.921250</td>\n",
       "    </tr>\n",
       "    <tr>\n",
       "      <th>198898</th>\n",
       "      <td>ZWE</td>\n",
       "      <td>2024</td>\n",
       "      <td>2024-11-15</td>\n",
       "      <td>25.672321</td>\n",
       "      <td>22.921250</td>\n",
       "    </tr>\n",
       "    <tr>\n",
       "      <th>198899</th>\n",
       "      <td>ZWE</td>\n",
       "      <td>2024</td>\n",
       "      <td>2024-12-15</td>\n",
       "      <td>27.019161</td>\n",
       "      <td>22.921250</td>\n",
       "    </tr>\n",
       "  </tbody>\n",
       "</table>\n",
       "<p>198900 rows × 5 columns</p>\n",
       "</div>"
      ],
      "text/plain": [
       "       Code  year        Day  Average Low Temp  Average High Temp\n",
       "0       AFG  1940 1940-01-15         -2.032494          11.327695\n",
       "1       AFG  1940 1940-02-15         -0.733503          11.327695\n",
       "2       AFG  1940 1940-03-15          1.999134          11.327695\n",
       "3       AFG  1940 1940-04-15         10.199754          11.327695\n",
       "4       AFG  1940 1940-05-15         17.942135          11.327695\n",
       "...     ...   ...        ...               ...                ...\n",
       "198895  ZWE  2024 2024-08-15         20.559408          22.921250\n",
       "198896  ZWE  2024 2024-09-15         23.642931          22.921250\n",
       "198897  ZWE  2024 2024-10-15         24.407030          22.921250\n",
       "198898  ZWE  2024 2024-11-15         25.672321          22.921250\n",
       "198899  ZWE  2024 2024-12-15         27.019161          22.921250\n",
       "\n",
       "[198900 rows x 5 columns]"
      ]
     },
     "execution_count": 10,
     "metadata": {},
     "output_type": "execute_result"
    }
   ],
   "source": [
    "# having both \"Enity\" and \"Code\" is redundant, so I'm dropping a column\n",
    "df.drop(\"Entity\", axis=1, inplace=True, errors='ignore')\n",
    "df"
   ]
  },
  {
   "cell_type": "markdown",
   "metadata": {},
   "source": [
    "# Data Plots"
   ]
  },
  {
   "cell_type": "code",
   "execution_count": null,
   "metadata": {},
   "outputs": [
    {
     "data": {
      "text/plain": [
       "<Axes: xlabel='year', ylabel='Temperature (°C)'>"
      ]
     },
     "execution_count": 35,
     "metadata": {},
     "output_type": "execute_result"
    },
    {
     "data": {
      "image/png": "[encoded data removed]",
      "text/plain": [
       "<Figure size 640x480 with 1 Axes>"
      ]
     },
     "metadata": {},
     "output_type": "display_data"
    }
   ],
   "source": [
    "# plot average temperatures for each year\n",
    "avg_temps_by_year = df.groupby(\"year\").agg(\n",
    "    avg_low=(\"Average Low Temp\", \"mean\"),\n",
    "    avg_high=(\"Average High Temp\", \"mean\")\n",
    ").reset_index()\n",
    "\n",
    "avg_temps_by_year = pd.melt(avg_temps_by_year, [\"year\"], value_name='Temperature (°C)', var_name=\"Legend\")\n",
    "sns.lineplot(data=avg_temps_by_year, x=\"year\", y='Temperature (°C)', hue=\"Legend\")"
   ]
  },
  {
   "cell_type": "code",
   "execution_count": 52,
   "metadata": {},
   "outputs": [
    {
     "data": {
      "text/plain": [
       "<Axes: xlabel='Month', ylabel='Temperature (°C)'>"
      ]
     },
     "execution_count": 52,
     "metadata": {},
     "output_type": "execute_result"
    },
    {
     "data": {
      "image/png": "[encoded data removed]",
      "text/plain": [
       "<Figure size 640x480 with 1 Axes>"
      ]
     },
     "metadata": {},
     "output_type": "display_data"
    }
   ],
   "source": [
    "# plot average temperatures for each month (Day column)\n",
    "df['Month'] = pd.to_datetime(df['Day']).dt.month\n",
    "avg_temps_by_month = df.groupby(\"Month\").agg(\n",
    "    avg_low=(\"Average Low Temp\", \"mean\"),\n",
    "    avg_high=(\"Average High Temp\", \"mean\")\n",
    ").reset_index()\n",
    "\n",
    "avg_temps_by_month = pd.melt(avg_temps_by_month, [\"Month\"], value_name='Temperature (°C)', var_name=\"Legend\")\n",
    "sns.lineplot(data=avg_temps_by_month, x=\"Month\", y='Temperature (°C)', hue=\"Legend\")\n"
   ]
  },
  {
   "cell_type": "code",
   "execution_count": null,
   "metadata": {},
   "outputs": [],
   "source": []
  }
 ],
 "metadata": {
  "kernelspec": {
   "display_name": ".venv",
   "language": "python",
   "name": "python3"
  },
  "language_info": {
   "codemirror_mode": {
    "name": "ipython",
    "version": 3
   },
   "file_extension": ".py",
   "mimetype": "text/x-python",
   "name": "python",
   "nbconvert_exporter": "python",
   "pygments_lexer": "ipython3",
   "version": "3.11.1"
  }
 },
 "nbformat": 4,
 "nbformat_minor": 2
}
