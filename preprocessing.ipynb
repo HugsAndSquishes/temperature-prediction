{
 "cells": [
  {
   "cell_type": "code",
   "execution_count": 2,
   "metadata": {},
   "outputs": [],
   "source": [
    "import pandas as pd"
   ]
  },
  {
   "cell_type": "code",
   "execution_count": 6,
   "metadata": {},
   "outputs": [],
   "source": [
    "df = pd.read_csv('data/average-monthly-surface-temperature.csv')"
   ]
  },
  {
   "cell_type": "code",
   "execution_count": 7,
   "metadata": {},
   "outputs": [
    {
     "data": {
      "text/html": [
       "<div>\n",
       "<style scoped>\n",
       "    .dataframe tbody tr th:only-of-type {\n",
       "        vertical-align: middle;\n",
       "    }\n",
       "\n",
       "    .dataframe tbody tr th {\n",
       "        vertical-align: top;\n",
       "    }\n",
       "\n",
       "    .dataframe thead th {\n",
       "        text-align: right;\n",
       "    }\n",
       "</style>\n",
       "<table border=\"1\" class=\"dataframe\">\n",
       "  <thead>\n",
       "    <tr style=\"text-align: right;\">\n",
       "      <th></th>\n",
       "      <th>Entity</th>\n",
       "      <th>Code</th>\n",
       "      <th>year</th>\n",
       "      <th>Day</th>\n",
       "      <th>Average surface temperature</th>\n",
       "      <th>Average surface temperature.1</th>\n",
       "    </tr>\n",
       "  </thead>\n",
       "  <tbody>\n",
       "    <tr>\n",
       "      <th>68797</th>\n",
       "      <td>Gabon</td>\n",
       "      <td>GAB</td>\n",
       "      <td>1978</td>\n",
       "      <td>1978-02-15</td>\n",
       "      <td>24.967318</td>\n",
       "      <td>23.778326</td>\n",
       "    </tr>\n",
       "    <tr>\n",
       "      <th>117055</th>\n",
       "      <td>Mauritius</td>\n",
       "      <td>MUS</td>\n",
       "      <td>2004</td>\n",
       "      <td>2004-08-15</td>\n",
       "      <td>21.375788</td>\n",
       "      <td>23.675660</td>\n",
       "    </tr>\n",
       "    <tr>\n",
       "      <th>178104</th>\n",
       "      <td>Thailand</td>\n",
       "      <td>THA</td>\n",
       "      <td>1992</td>\n",
       "      <td>1992-01-15</td>\n",
       "      <td>22.132275</td>\n",
       "      <td>25.953886</td>\n",
       "    </tr>\n",
       "    <tr>\n",
       "      <th>85764</th>\n",
       "      <td>India</td>\n",
       "      <td>IND</td>\n",
       "      <td>1947</td>\n",
       "      <td>1947-01-15</td>\n",
       "      <td>16.725855</td>\n",
       "      <td>23.920479</td>\n",
       "    </tr>\n",
       "    <tr>\n",
       "      <th>196738</th>\n",
       "      <td>Yemen</td>\n",
       "      <td>YEM</td>\n",
       "      <td>2014</td>\n",
       "      <td>2014-11-15</td>\n",
       "      <td>22.988035</td>\n",
       "      <td>25.945890</td>\n",
       "    </tr>\n",
       "  </tbody>\n",
       "</table>\n",
       "</div>"
      ],
      "text/plain": [
       "           Entity Code  year         Day  Average surface temperature  \\\n",
       "68797       Gabon  GAB  1978  1978-02-15                    24.967318   \n",
       "117055  Mauritius  MUS  2004  2004-08-15                    21.375788   \n",
       "178104   Thailand  THA  1992  1992-01-15                    22.132275   \n",
       "85764       India  IND  1947  1947-01-15                    16.725855   \n",
       "196738      Yemen  YEM  2014  2014-11-15                    22.988035   \n",
       "\n",
       "        Average surface temperature.1  \n",
       "68797                       23.778326  \n",
       "117055                      23.675660  \n",
       "178104                      25.953886  \n",
       "85764                       23.920479  \n",
       "196738                      25.945890  "
      ]
     },
     "execution_count": 7,
     "metadata": {},
     "output_type": "execute_result"
    }
   ],
   "source": [
    "df.sample(5)"
   ]
  },
  {
   "cell_type": "code",
   "execution_count": 10,
   "metadata": {},
   "outputs": [
    {
     "name": "stdout",
     "output_type": "stream",
     "text": [
      "<class 'pandas.core.frame.DataFrame'>\n",
      "RangeIndex: 198900 entries, 0 to 198899\n",
      "Data columns (total 6 columns):\n",
      " #   Column                         Non-Null Count   Dtype  \n",
      "---  ------                         --------------   -----  \n",
      " 0   Entity                         198900 non-null  object \n",
      " 1   Code                           198900 non-null  object \n",
      " 2   year                           198900 non-null  int64  \n",
      " 3   Day                            198900 non-null  object \n",
      " 4   Average surface temperature    198900 non-null  float64\n",
      " 5   Average surface temperature.1  198900 non-null  float64\n",
      "dtypes: float64(2), int64(1), object(3)\n",
      "memory usage: 9.1+ MB\n"
     ]
    }
   ],
   "source": [
    "df.info()"
   ]
  },
  {
   "cell_type": "markdown",
   "metadata": {},
   "source": [
    "# Missing values"
   ]
  },
  {
   "cell_type": "code",
   "execution_count": null,
   "metadata": {},
   "outputs": [
    {
     "name": "stdout",
     "output_type": "stream",
     "text": [
      "Missing Values:\n",
      "Entity                           0\n",
      "Code                             0\n",
      "year                             0\n",
      "Day                              0\n",
      "Average surface temperature      0\n",
      "Average surface temperature.1    0\n",
      "dtype: int64\n"
     ]
    }
   ],
   "source": [
    "missing_values = df.isnull().sum()\n",
    "print(\"Missing Values:\")\n",
    "print(missing_values)\n",
    "\n",
    "# there are no missing values"
   ]
  },
  {
   "cell_type": "markdown",
   "metadata": {},
   "source": [
    "# Duplicates"
   ]
  },
  {
   "cell_type": "code",
   "execution_count": null,
   "metadata": {},
   "outputs": [
    {
     "name": "stdout",
     "output_type": "stream",
     "text": [
      "Duplicate Rows:\n",
      "Empty DataFrame\n",
      "Columns: [Entity, Code, year, Day, Average surface temperature, Average surface temperature.1]\n",
      "Index: []\n"
     ]
    }
   ],
   "source": [
    "duplicate_rows = df[df.duplicated()]\n",
    "print(\"Duplicate Rows:\")\n",
    "print(duplicate_rows)\n",
    "\n",
    "# there are no duplicate rows"
   ]
  }
 ],
 "metadata": {
  "kernelspec": {
   "display_name": ".venv",
   "language": "python",
   "name": "python3"
  },
  "language_info": {
   "codemirror_mode": {
    "name": "ipython",
    "version": 3
   },
   "file_extension": ".py",
   "mimetype": "text/x-python",
   "name": "python",
   "nbconvert_exporter": "python",
   "pygments_lexer": "ipython3",
   "version": "3.11.1"
  }
 },
 "nbformat": 4,
 "nbformat_minor": 2
}
