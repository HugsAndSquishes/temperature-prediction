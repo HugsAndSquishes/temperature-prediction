{
 "cells": [
  {
   "cell_type": "code",
   "execution_count": 95,
   "metadata": {},
   "outputs": [],
   "source": [
    "import pandas as pd\n",
    "import matplotlib.pyplot as plt\n",
    "import seaborn as sns\n"
   ]
  },
  {
   "cell_type": "code",
   "execution_count": 96,
   "metadata": {},
   "outputs": [],
   "source": [
    "# TODO: create seperate a file for preprocessed data??\n",
    "df = pd.read_csv('../data/raw/average-monthly-surface-temperature.csv')\n",
    "df.reset_index()\n",
    "df = df.rename(columns={'Average surface temperature': 'Daily Average Temp', 'Average surface temperature.1': 'Monthly Average Temp'})"
   ]
  },
  {
   "cell_type": "code",
   "execution_count": 97,
   "metadata": {},
   "outputs": [
    {
     "data": {
      "text/html": [
       "<div>\n",
       "<style scoped>\n",
       "    .dataframe tbody tr th:only-of-type {\n",
       "        vertical-align: middle;\n",
       "    }\n",
       "\n",
       "    .dataframe tbody tr th {\n",
       "        vertical-align: top;\n",
       "    }\n",
       "\n",
       "    .dataframe thead th {\n",
       "        text-align: right;\n",
       "    }\n",
       "</style>\n",
       "<table border=\"1\" class=\"dataframe\">\n",
       "  <thead>\n",
       "    <tr style=\"text-align: right;\">\n",
       "      <th></th>\n",
       "      <th>Entity</th>\n",
       "      <th>Code</th>\n",
       "      <th>year</th>\n",
       "      <th>Day</th>\n",
       "      <th>Daily Average Temp</th>\n",
       "      <th>Monthly Average Temp</th>\n",
       "    </tr>\n",
       "  </thead>\n",
       "  <tbody>\n",
       "    <tr>\n",
       "      <th>89549</th>\n",
       "      <td>Iraq</td>\n",
       "      <td>IRQ</td>\n",
       "      <td>2007</td>\n",
       "      <td>2007-06-15</td>\n",
       "      <td>33.780330</td>\n",
       "      <td>23.141973</td>\n",
       "    </tr>\n",
       "    <tr>\n",
       "      <th>21832</th>\n",
       "      <td>Bolivia</td>\n",
       "      <td>BOL</td>\n",
       "      <td>1974</td>\n",
       "      <td>1974-05-15</td>\n",
       "      <td>17.635366</td>\n",
       "      <td>18.961462</td>\n",
       "    </tr>\n",
       "    <tr>\n",
       "      <th>16943</th>\n",
       "      <td>Belarus</td>\n",
       "      <td>BLR</td>\n",
       "      <td>1991</td>\n",
       "      <td>1991-12-15</td>\n",
       "      <td>-2.801102</td>\n",
       "      <td>6.774758</td>\n",
       "    </tr>\n",
       "    <tr>\n",
       "      <th>19726</th>\n",
       "      <td>Benin</td>\n",
       "      <td>BEN</td>\n",
       "      <td>1968</td>\n",
       "      <td>1968-11-15</td>\n",
       "      <td>26.452550</td>\n",
       "      <td>26.446350</td>\n",
       "    </tr>\n",
       "    <tr>\n",
       "      <th>94512</th>\n",
       "      <td>Jamaica</td>\n",
       "      <td>JAM</td>\n",
       "      <td>1996</td>\n",
       "      <td>1996-01-15</td>\n",
       "      <td>23.391422</td>\n",
       "      <td>24.852930</td>\n",
       "    </tr>\n",
       "  </tbody>\n",
       "</table>\n",
       "</div>"
      ],
      "text/plain": [
       "        Entity Code  year         Day  Daily Average Temp  \\\n",
       "89549     Iraq  IRQ  2007  2007-06-15           33.780330   \n",
       "21832  Bolivia  BOL  1974  1974-05-15           17.635366   \n",
       "16943  Belarus  BLR  1991  1991-12-15           -2.801102   \n",
       "19726    Benin  BEN  1968  1968-11-15           26.452550   \n",
       "94512  Jamaica  JAM  1996  1996-01-15           23.391422   \n",
       "\n",
       "       Monthly Average Temp  \n",
       "89549             23.141973  \n",
       "21832             18.961462  \n",
       "16943              6.774758  \n",
       "19726             26.446350  \n",
       "94512             24.852930  "
      ]
     },
     "execution_count": 97,
     "metadata": {},
     "output_type": "execute_result"
    }
   ],
   "source": [
    "df.sample(5)"
   ]
  },
  {
   "cell_type": "code",
   "execution_count": 98,
   "metadata": {},
   "outputs": [
    {
     "name": "stdout",
     "output_type": "stream",
     "text": [
      "<class 'pandas.core.frame.DataFrame'>\n",
      "RangeIndex: 198900 entries, 0 to 198899\n",
      "Data columns (total 6 columns):\n",
      " #   Column                Non-Null Count   Dtype  \n",
      "---  ------                --------------   -----  \n",
      " 0   Entity                198900 non-null  object \n",
      " 1   Code                  198900 non-null  object \n",
      " 2   year                  198900 non-null  int64  \n",
      " 3   Day                   198900 non-null  object \n",
      " 4   Daily Average Temp    198900 non-null  float64\n",
      " 5   Monthly Average Temp  198900 non-null  float64\n",
      "dtypes: float64(2), int64(1), object(3)\n",
      "memory usage: 9.1+ MB\n"
     ]
    }
   ],
   "source": [
    "df.info()"
   ]
  },
  {
   "cell_type": "code",
   "execution_count": 99,
   "metadata": {},
   "outputs": [
    {
     "data": {
      "text/html": [
       "<div>\n",
       "<style scoped>\n",
       "    .dataframe tbody tr th:only-of-type {\n",
       "        vertical-align: middle;\n",
       "    }\n",
       "\n",
       "    .dataframe tbody tr th {\n",
       "        vertical-align: top;\n",
       "    }\n",
       "\n",
       "    .dataframe thead th {\n",
       "        text-align: right;\n",
       "    }\n",
       "</style>\n",
       "<table border=\"1\" class=\"dataframe\">\n",
       "  <thead>\n",
       "    <tr style=\"text-align: right;\">\n",
       "      <th></th>\n",
       "      <th>year</th>\n",
       "      <th>Daily Average Temp</th>\n",
       "      <th>Monthly Average Temp</th>\n",
       "    </tr>\n",
       "  </thead>\n",
       "  <tbody>\n",
       "    <tr>\n",
       "      <th>count</th>\n",
       "      <td>198900.00000</td>\n",
       "      <td>198900.000000</td>\n",
       "      <td>198900.000000</td>\n",
       "    </tr>\n",
       "    <tr>\n",
       "      <th>mean</th>\n",
       "      <td>1982.00000</td>\n",
       "      <td>18.072073</td>\n",
       "      <td>18.072073</td>\n",
       "    </tr>\n",
       "    <tr>\n",
       "      <th>std</th>\n",
       "      <td>24.53575</td>\n",
       "      <td>10.246142</td>\n",
       "      <td>8.710114</td>\n",
       "    </tr>\n",
       "    <tr>\n",
       "      <th>min</th>\n",
       "      <td>1940.00000</td>\n",
       "      <td>-36.240032</td>\n",
       "      <td>-21.529121</td>\n",
       "    </tr>\n",
       "    <tr>\n",
       "      <th>25%</th>\n",
       "      <td>1961.00000</td>\n",
       "      <td>12.304079</td>\n",
       "      <td>10.569263</td>\n",
       "    </tr>\n",
       "    <tr>\n",
       "      <th>50%</th>\n",
       "      <td>1982.00000</td>\n",
       "      <td>22.055794</td>\n",
       "      <td>21.856285</td>\n",
       "    </tr>\n",
       "    <tr>\n",
       "      <th>75%</th>\n",
       "      <td>2003.00000</td>\n",
       "      <td>25.317015</td>\n",
       "      <td>25.142885</td>\n",
       "    </tr>\n",
       "    <tr>\n",
       "      <th>max</th>\n",
       "      <td>2024.00000</td>\n",
       "      <td>39.889374</td>\n",
       "      <td>29.794220</td>\n",
       "    </tr>\n",
       "  </tbody>\n",
       "</table>\n",
       "</div>"
      ],
      "text/plain": [
       "               year  Daily Average Temp  Monthly Average Temp\n",
       "count  198900.00000       198900.000000         198900.000000\n",
       "mean     1982.00000           18.072073             18.072073\n",
       "std        24.53575           10.246142              8.710114\n",
       "min      1940.00000          -36.240032            -21.529121\n",
       "25%      1961.00000           12.304079             10.569263\n",
       "50%      1982.00000           22.055794             21.856285\n",
       "75%      2003.00000           25.317015             25.142885\n",
       "max      2024.00000           39.889374             29.794220"
      ]
     },
     "execution_count": 99,
     "metadata": {},
     "output_type": "execute_result"
    }
   ],
   "source": [
    "df.describe()"
   ]
  },
  {
   "cell_type": "markdown",
   "metadata": {},
   "source": [
    "# Missing values"
   ]
  },
  {
   "cell_type": "code",
   "execution_count": 100,
   "metadata": {},
   "outputs": [
    {
     "name": "stdout",
     "output_type": "stream",
     "text": [
      "Missing Values:\n",
      "Entity                  0\n",
      "Code                    0\n",
      "year                    0\n",
      "Day                     0\n",
      "Daily Average Temp      0\n",
      "Monthly Average Temp    0\n",
      "dtype: int64\n"
     ]
    }
   ],
   "source": [
    "missing_values = df.isnull().sum()\n",
    "print(\"Missing Values:\")\n",
    "print(missing_values)\n",
    "\n",
    "# there are no missing values"
   ]
  },
  {
   "cell_type": "markdown",
   "metadata": {},
   "source": [
    "# Duplicates"
   ]
  },
  {
   "cell_type": "code",
   "execution_count": 101,
   "metadata": {},
   "outputs": [
    {
     "name": "stdout",
     "output_type": "stream",
     "text": [
      "Duplicate Rows:\n",
      "Empty DataFrame\n",
      "Columns: [Entity, Code, year, Day, Daily Average Temp, Monthly Average Temp]\n",
      "Index: []\n"
     ]
    }
   ],
   "source": [
    "duplicate_rows = df[df.duplicated()]\n",
    "print(\"Duplicate Rows:\")\n",
    "print(duplicate_rows)\n",
    "\n",
    "# there are no duplicate rows"
   ]
  },
  {
   "cell_type": "markdown",
   "metadata": {},
   "source": [
    "# Convert Data Types"
   ]
  },
  {
   "cell_type": "code",
   "execution_count": 102,
   "metadata": {},
   "outputs": [
    {
     "data": {
      "text/html": [
       "<div>\n",
       "<style scoped>\n",
       "    .dataframe tbody tr th:only-of-type {\n",
       "        vertical-align: middle;\n",
       "    }\n",
       "\n",
       "    .dataframe tbody tr th {\n",
       "        vertical-align: top;\n",
       "    }\n",
       "\n",
       "    .dataframe thead th {\n",
       "        text-align: right;\n",
       "    }\n",
       "</style>\n",
       "<table border=\"1\" class=\"dataframe\">\n",
       "  <thead>\n",
       "    <tr style=\"text-align: right;\">\n",
       "      <th></th>\n",
       "      <th>Entity</th>\n",
       "      <th>Code</th>\n",
       "      <th>year</th>\n",
       "      <th>Day</th>\n",
       "      <th>Daily Average Temp</th>\n",
       "      <th>Monthly Average Temp</th>\n",
       "    </tr>\n",
       "  </thead>\n",
       "  <tbody>\n",
       "    <tr>\n",
       "      <th>0</th>\n",
       "      <td>Afghanistan</td>\n",
       "      <td>AFG</td>\n",
       "      <td>1940</td>\n",
       "      <td>1940-01-15</td>\n",
       "      <td>-2.032494</td>\n",
       "      <td>11.327695</td>\n",
       "    </tr>\n",
       "    <tr>\n",
       "      <th>1</th>\n",
       "      <td>Afghanistan</td>\n",
       "      <td>AFG</td>\n",
       "      <td>1940</td>\n",
       "      <td>1940-02-15</td>\n",
       "      <td>-0.733503</td>\n",
       "      <td>11.327695</td>\n",
       "    </tr>\n",
       "    <tr>\n",
       "      <th>2</th>\n",
       "      <td>Afghanistan</td>\n",
       "      <td>AFG</td>\n",
       "      <td>1940</td>\n",
       "      <td>1940-03-15</td>\n",
       "      <td>1.999134</td>\n",
       "      <td>11.327695</td>\n",
       "    </tr>\n",
       "    <tr>\n",
       "      <th>3</th>\n",
       "      <td>Afghanistan</td>\n",
       "      <td>AFG</td>\n",
       "      <td>1940</td>\n",
       "      <td>1940-04-15</td>\n",
       "      <td>10.199754</td>\n",
       "      <td>11.327695</td>\n",
       "    </tr>\n",
       "    <tr>\n",
       "      <th>4</th>\n",
       "      <td>Afghanistan</td>\n",
       "      <td>AFG</td>\n",
       "      <td>1940</td>\n",
       "      <td>1940-05-15</td>\n",
       "      <td>17.942135</td>\n",
       "      <td>11.327695</td>\n",
       "    </tr>\n",
       "    <tr>\n",
       "      <th>...</th>\n",
       "      <td>...</td>\n",
       "      <td>...</td>\n",
       "      <td>...</td>\n",
       "      <td>...</td>\n",
       "      <td>...</td>\n",
       "      <td>...</td>\n",
       "    </tr>\n",
       "    <tr>\n",
       "      <th>198895</th>\n",
       "      <td>Zimbabwe</td>\n",
       "      <td>ZWE</td>\n",
       "      <td>2024</td>\n",
       "      <td>2024-08-15</td>\n",
       "      <td>20.559408</td>\n",
       "      <td>22.921250</td>\n",
       "    </tr>\n",
       "    <tr>\n",
       "      <th>198896</th>\n",
       "      <td>Zimbabwe</td>\n",
       "      <td>ZWE</td>\n",
       "      <td>2024</td>\n",
       "      <td>2024-09-15</td>\n",
       "      <td>23.642931</td>\n",
       "      <td>22.921250</td>\n",
       "    </tr>\n",
       "    <tr>\n",
       "      <th>198897</th>\n",
       "      <td>Zimbabwe</td>\n",
       "      <td>ZWE</td>\n",
       "      <td>2024</td>\n",
       "      <td>2024-10-15</td>\n",
       "      <td>24.407030</td>\n",
       "      <td>22.921250</td>\n",
       "    </tr>\n",
       "    <tr>\n",
       "      <th>198898</th>\n",
       "      <td>Zimbabwe</td>\n",
       "      <td>ZWE</td>\n",
       "      <td>2024</td>\n",
       "      <td>2024-11-15</td>\n",
       "      <td>25.672321</td>\n",
       "      <td>22.921250</td>\n",
       "    </tr>\n",
       "    <tr>\n",
       "      <th>198899</th>\n",
       "      <td>Zimbabwe</td>\n",
       "      <td>ZWE</td>\n",
       "      <td>2024</td>\n",
       "      <td>2024-12-15</td>\n",
       "      <td>27.019161</td>\n",
       "      <td>22.921250</td>\n",
       "    </tr>\n",
       "  </tbody>\n",
       "</table>\n",
       "<p>198900 rows × 6 columns</p>\n",
       "</div>"
      ],
      "text/plain": [
       "             Entity Code  year        Day  Daily Average Temp  \\\n",
       "0       Afghanistan  AFG  1940 1940-01-15           -2.032494   \n",
       "1       Afghanistan  AFG  1940 1940-02-15           -0.733503   \n",
       "2       Afghanistan  AFG  1940 1940-03-15            1.999134   \n",
       "3       Afghanistan  AFG  1940 1940-04-15           10.199754   \n",
       "4       Afghanistan  AFG  1940 1940-05-15           17.942135   \n",
       "...             ...  ...   ...        ...                 ...   \n",
       "198895     Zimbabwe  ZWE  2024 2024-08-15           20.559408   \n",
       "198896     Zimbabwe  ZWE  2024 2024-09-15           23.642931   \n",
       "198897     Zimbabwe  ZWE  2024 2024-10-15           24.407030   \n",
       "198898     Zimbabwe  ZWE  2024 2024-11-15           25.672321   \n",
       "198899     Zimbabwe  ZWE  2024 2024-12-15           27.019161   \n",
       "\n",
       "        Monthly Average Temp  \n",
       "0                  11.327695  \n",
       "1                  11.327695  \n",
       "2                  11.327695  \n",
       "3                  11.327695  \n",
       "4                  11.327695  \n",
       "...                      ...  \n",
       "198895             22.921250  \n",
       "198896             22.921250  \n",
       "198897             22.921250  \n",
       "198898             22.921250  \n",
       "198899             22.921250  \n",
       "\n",
       "[198900 rows x 6 columns]"
      ]
     },
     "execution_count": 102,
     "metadata": {},
     "output_type": "execute_result"
    }
   ],
   "source": [
    "df[\"Day\"] = pd.to_datetime(df[\"Day\"])\n",
    "df"
   ]
  },
  {
   "cell_type": "markdown",
   "metadata": {},
   "source": [
    "# Verifying Entity and Code columns"
   ]
  },
  {
   "cell_type": "code",
   "execution_count": 103,
   "metadata": {},
   "outputs": [],
   "source": [
    "for name, num_of_occurrences in df['Entity'].value_counts().items():\n",
    "    # check if every country has the same number of entries\n",
    "    if num_of_occurrences != 1020:\n",
    "        print(name, \"has\", num_of_occurrences)\n",
    "\n",
    "for name in df[\"Entity\"].unique():\n",
    "    # check if every country name (Entity column) matches the country code \n",
    "    correct_code = df.loc[df[\"Entity\"] == name].iloc[0][\"Code\"]      \n",
    "    incorrect_rows = df.loc[(df[\"Entity\"] == name) & (df[\"Code\"] != correct_code)]\n",
    "    if incorrect_rows.shape[0] > 0:\n",
    "        display(incorrect_rows)\n"
   ]
  },
  {
   "cell_type": "markdown",
   "metadata": {},
   "source": [
    "# Drop Unnecessary Columns"
   ]
  },
  {
   "cell_type": "code",
   "execution_count": 104,
   "metadata": {},
   "outputs": [
    {
     "data": {
      "text/html": [
       "<div>\n",
       "<style scoped>\n",
       "    .dataframe tbody tr th:only-of-type {\n",
       "        vertical-align: middle;\n",
       "    }\n",
       "\n",
       "    .dataframe tbody tr th {\n",
       "        vertical-align: top;\n",
       "    }\n",
       "\n",
       "    .dataframe thead th {\n",
       "        text-align: right;\n",
       "    }\n",
       "</style>\n",
       "<table border=\"1\" class=\"dataframe\">\n",
       "  <thead>\n",
       "    <tr style=\"text-align: right;\">\n",
       "      <th></th>\n",
       "      <th>Entity</th>\n",
       "      <th>year</th>\n",
       "      <th>Day</th>\n",
       "      <th>Daily Average Temp</th>\n",
       "      <th>Monthly Average Temp</th>\n",
       "    </tr>\n",
       "  </thead>\n",
       "  <tbody>\n",
       "    <tr>\n",
       "      <th>0</th>\n",
       "      <td>Afghanistan</td>\n",
       "      <td>1940</td>\n",
       "      <td>1940-01-15</td>\n",
       "      <td>-2.032494</td>\n",
       "      <td>11.327695</td>\n",
       "    </tr>\n",
       "    <tr>\n",
       "      <th>1</th>\n",
       "      <td>Afghanistan</td>\n",
       "      <td>1940</td>\n",
       "      <td>1940-02-15</td>\n",
       "      <td>-0.733503</td>\n",
       "      <td>11.327695</td>\n",
       "    </tr>\n",
       "    <tr>\n",
       "      <th>2</th>\n",
       "      <td>Afghanistan</td>\n",
       "      <td>1940</td>\n",
       "      <td>1940-03-15</td>\n",
       "      <td>1.999134</td>\n",
       "      <td>11.327695</td>\n",
       "    </tr>\n",
       "    <tr>\n",
       "      <th>3</th>\n",
       "      <td>Afghanistan</td>\n",
       "      <td>1940</td>\n",
       "      <td>1940-04-15</td>\n",
       "      <td>10.199754</td>\n",
       "      <td>11.327695</td>\n",
       "    </tr>\n",
       "    <tr>\n",
       "      <th>4</th>\n",
       "      <td>Afghanistan</td>\n",
       "      <td>1940</td>\n",
       "      <td>1940-05-15</td>\n",
       "      <td>17.942135</td>\n",
       "      <td>11.327695</td>\n",
       "    </tr>\n",
       "    <tr>\n",
       "      <th>...</th>\n",
       "      <td>...</td>\n",
       "      <td>...</td>\n",
       "      <td>...</td>\n",
       "      <td>...</td>\n",
       "      <td>...</td>\n",
       "    </tr>\n",
       "    <tr>\n",
       "      <th>198895</th>\n",
       "      <td>Zimbabwe</td>\n",
       "      <td>2024</td>\n",
       "      <td>2024-08-15</td>\n",
       "      <td>20.559408</td>\n",
       "      <td>22.921250</td>\n",
       "    </tr>\n",
       "    <tr>\n",
       "      <th>198896</th>\n",
       "      <td>Zimbabwe</td>\n",
       "      <td>2024</td>\n",
       "      <td>2024-09-15</td>\n",
       "      <td>23.642931</td>\n",
       "      <td>22.921250</td>\n",
       "    </tr>\n",
       "    <tr>\n",
       "      <th>198897</th>\n",
       "      <td>Zimbabwe</td>\n",
       "      <td>2024</td>\n",
       "      <td>2024-10-15</td>\n",
       "      <td>24.407030</td>\n",
       "      <td>22.921250</td>\n",
       "    </tr>\n",
       "    <tr>\n",
       "      <th>198898</th>\n",
       "      <td>Zimbabwe</td>\n",
       "      <td>2024</td>\n",
       "      <td>2024-11-15</td>\n",
       "      <td>25.672321</td>\n",
       "      <td>22.921250</td>\n",
       "    </tr>\n",
       "    <tr>\n",
       "      <th>198899</th>\n",
       "      <td>Zimbabwe</td>\n",
       "      <td>2024</td>\n",
       "      <td>2024-12-15</td>\n",
       "      <td>27.019161</td>\n",
       "      <td>22.921250</td>\n",
       "    </tr>\n",
       "  </tbody>\n",
       "</table>\n",
       "<p>198900 rows × 5 columns</p>\n",
       "</div>"
      ],
      "text/plain": [
       "             Entity  year        Day  Daily Average Temp  Monthly Average Temp\n",
       "0       Afghanistan  1940 1940-01-15           -2.032494             11.327695\n",
       "1       Afghanistan  1940 1940-02-15           -0.733503             11.327695\n",
       "2       Afghanistan  1940 1940-03-15            1.999134             11.327695\n",
       "3       Afghanistan  1940 1940-04-15           10.199754             11.327695\n",
       "4       Afghanistan  1940 1940-05-15           17.942135             11.327695\n",
       "...             ...   ...        ...                 ...                   ...\n",
       "198895     Zimbabwe  2024 2024-08-15           20.559408             22.921250\n",
       "198896     Zimbabwe  2024 2024-09-15           23.642931             22.921250\n",
       "198897     Zimbabwe  2024 2024-10-15           24.407030             22.921250\n",
       "198898     Zimbabwe  2024 2024-11-15           25.672321             22.921250\n",
       "198899     Zimbabwe  2024 2024-12-15           27.019161             22.921250\n",
       "\n",
       "[198900 rows x 5 columns]"
      ]
     },
     "execution_count": 104,
     "metadata": {},
     "output_type": "execute_result"
    }
   ],
   "source": [
    "# having both \"Enity\" and \"Code\" is redundant, so I'm dropping a column\n",
    "df.drop(\"Code\", axis=1, inplace=True, errors='ignore')\n",
    "df"
   ]
  },
  {
   "cell_type": "markdown",
   "metadata": {},
   "source": [
    "# Encode Code Column\n",
    "Use One-Hot-Encoding"
   ]
  },
  {
   "cell_type": "code",
   "execution_count": 105,
   "metadata": {},
   "outputs": [],
   "source": [
    "from sklearn.preprocessing import OneHotEncoder"
   ]
  },
  {
   "cell_type": "code",
   "execution_count": 106,
   "metadata": {},
   "outputs": [
    {
     "data": {
      "text/plain": [
       "array(['Afghanistan', 'Albania', 'Algeria', 'American Samoa', 'Andorra',\n",
       "       'Angola', 'Anguilla', 'Antigua and Barbuda', 'Argentina',\n",
       "       'Armenia', 'Australia', 'Austria', 'Azerbaijan', 'Bahamas',\n",
       "       'Bahrain', 'Bangladesh', 'Belarus', 'Belgium', 'Belize', 'Benin',\n",
       "       'Bhutan', 'Bolivia', 'Bosnia and Herzegovina', 'Botswana',\n",
       "       'Brazil', 'Brunei', 'Bulgaria', 'Burkina Faso', 'Burundi',\n",
       "       'Cambodia', 'Cameroon', 'Canada', 'Cape Verde', 'Cayman Islands',\n",
       "       'Central African Republic', 'Chad', 'Chile', 'China', 'Colombia',\n",
       "       'Comoros', 'Congo', 'Cook Islands', 'Costa Rica', \"Cote d'Ivoire\",\n",
       "       'Croatia', 'Cuba', 'Cyprus', 'Czechia',\n",
       "       'Democratic Republic of Congo', 'Denmark', 'Djibouti',\n",
       "       'Dominican Republic', 'East Timor', 'Ecuador', 'Egypt',\n",
       "       'El Salvador', 'Equatorial Guinea', 'Eritrea', 'Estonia',\n",
       "       'Eswatini', 'Ethiopia', 'Falkland Islands', 'Faroe Islands',\n",
       "       'Fiji', 'Finland', 'France', 'French Polynesia', 'Gabon', 'Gambia',\n",
       "       'Georgia', 'Germany', 'Ghana', 'Greece', 'Greenland', 'Guatemala',\n",
       "       'Guinea', 'Guinea-Bissau', 'Guyana', 'Haiti',\n",
       "       'Heard Island and McDonald Islands', 'Honduras', 'Hong Kong',\n",
       "       'Hungary', 'Iceland', 'India', 'Indonesia', 'Iran', 'Iraq',\n",
       "       'Ireland', 'Isle of Man', 'Israel', 'Italy', 'Jamaica', 'Japan',\n",
       "       'Jordan', 'Kazakhstan', 'Kenya', 'Kiribati', 'Kosovo', 'Kuwait',\n",
       "       'Kyrgyzstan', 'Laos', 'Latvia', 'Lebanon', 'Lesotho', 'Liberia',\n",
       "       'Libya', 'Lithuania', 'Luxembourg', 'Madagascar', 'Malawi',\n",
       "       'Malaysia', 'Mali', 'Mauritania', 'Mauritius', 'Mexico', 'Moldova',\n",
       "       'Mongolia', 'Montenegro', 'Morocco', 'Mozambique', 'Myanmar',\n",
       "       'Namibia', 'Nepal', 'Netherlands', 'New Caledonia', 'New Zealand',\n",
       "       'Nicaragua', 'Niger', 'Nigeria', 'North Korea', 'North Macedonia',\n",
       "       'Norway', 'Oman', 'Pakistan', 'Palestine', 'Panama',\n",
       "       'Papua New Guinea', 'Paraguay', 'Peru', 'Philippines', 'Poland',\n",
       "       'Portugal', 'Puerto Rico', 'Qatar', 'Romania', 'Russia', 'Rwanda',\n",
       "       'Saint Helena', 'Saint Vincent and the Grenadines', 'Samoa',\n",
       "       'Sao Tome and Principe', 'Saudi Arabia', 'Senegal', 'Serbia',\n",
       "       'Seychelles', 'Sierra Leone', 'Slovakia', 'Slovenia',\n",
       "       'Solomon Islands', 'Somalia', 'South Africa',\n",
       "       'South Georgia and the South Sandwich Islands', 'South Korea',\n",
       "       'South Sudan', 'Spain', 'Sri Lanka', 'Sudan', 'Suriname', 'Sweden',\n",
       "       'Switzerland', 'Syria', 'Tajikistan', 'Tanzania', 'Thailand',\n",
       "       'Togo', 'Trinidad and Tobago', 'Tunisia', 'Turkey', 'Turkmenistan',\n",
       "       'Uganda', 'Ukraine', 'United Arab Emirates', 'United Kingdom',\n",
       "       'United States', 'United States Virgin Islands', 'Uruguay',\n",
       "       'Uzbekistan', 'Vanuatu', 'Venezuela', 'Vietnam', 'World', 'Yemen',\n",
       "       'Zambia', 'Zimbabwe'], dtype=object)"
      ]
     },
     "execution_count": 106,
     "metadata": {},
     "output_type": "execute_result"
    }
   ],
   "source": [
    "df['Entity'].unique()"
   ]
  },
  {
   "cell_type": "code",
   "execution_count": null,
   "metadata": {},
   "outputs": [],
   "source": [
    "ohe = OneHotEncoder(sparse_output=False).set_output(transform='pandas')\n",
    "ohe_transform = ohe.fit_transform(df[[\"Entity\"]])\n",
    "encoded_df = df.drop('Entity', axis=1) \n",
    "encoded_df = pd.concat([encoded_df, ohe_transform], axis=1)\n",
    "encoded_df"
   ]
  },
  {
   "cell_type": "code",
   "execution_count": 108,
   "metadata": {},
   "outputs": [
    {
     "data": {
      "text/plain": [
       "\"\\ncode_column = df['Entity'].values.reshape(-1, 1)\\nencoded_code = ohe.fit_transform(code_column)\\nencoded_columns = pd.DataFrame(encoded_code, columns=ohe.get_feature_names_out(['Entity']))\\nencoded_df = df.drop('Entity', axis=1) \\nencoded_df = pd.concat([encoded_df, encoded_columns], axis=1)\\n\""
      ]
     },
     "execution_count": 108,
     "metadata": {},
     "output_type": "execute_result"
    }
   ],
   "source": [
    "'''\n",
    "code_column = df['Entity'].values.reshape(-1, 1)\n",
    "encoded_code = ohe.fit_transform(code_column)\n",
    "encoded_columns = pd.DataFrame(encoded_code, columns=ohe.get_feature_names_out(['Entity']))\n",
    "encoded_df = df.drop('Entity', axis=1) \n",
    "encoded_df = pd.concat([encoded_df, encoded_columns], axis=1)\n",
    "'''"
   ]
  },
  {
   "cell_type": "markdown",
   "metadata": {},
   "source": [
    "# Data Visualization"
   ]
  },
  {
   "cell_type": "code",
   "execution_count": 109,
   "metadata": {},
   "outputs": [
    {
     "data": {
      "text/plain": [
       "'\\nGlobal Temperature Trend Over Time\\nOverall trend of average surface temperatures from 1940 to 2024\\n'"
      ]
     },
     "execution_count": 109,
     "metadata": {},
     "output_type": "execute_result"
    }
   ],
   "source": [
    "'''\n",
    "Global Temperature Trend Over Time\n",
    "Overall trend of average surface temperatures from 1940 to 2024\n",
    "'''\n",
    "\n",
    "# For each year, average the "
   ]
  },
  {
   "cell_type": "code",
   "execution_count": 110,
   "metadata": {},
   "outputs": [
    {
     "data": {
      "text/plain": [
       "'\\n# plot average temperatures for each year\\navg_temps_by_year = df.groupby(\"year\").agg(\\n    avg_temp=(\"Daily Average Temp\", \"mean\"),\\n).reset_index()\\n\\navg_temps_by_year = pd.melt(avg_temps_by_year, [\"year\"], value_name=\\'Temperature (°C)\\', var_name=\"Legend\")\\nsns.lineplot(data=avg_temps_by_year, x=\"year\", y=\\'Temperature (°C)\\', hue=\"Legend\")\\n'"
      ]
     },
     "execution_count": 110,
     "metadata": {},
     "output_type": "execute_result"
    }
   ],
   "source": [
    "'''\n",
    "# plot average temperatures for each year\n",
    "avg_temps_by_year = df.groupby(\"year\").agg(\n",
    "    avg_temp=(\"Daily Average Temp\", \"mean\"),\n",
    ").reset_index()\n",
    "\n",
    "avg_temps_by_year = pd.melt(avg_temps_by_year, [\"year\"], value_name='Temperature (°C)', var_name=\"Legend\")\n",
    "sns.lineplot(data=avg_temps_by_year, x=\"year\", y='Temperature (°C)', hue=\"Legend\")\n",
    "'''"
   ]
  },
  {
   "cell_type": "code",
   "execution_count": 111,
   "metadata": {},
   "outputs": [
    {
     "data": {
      "text/plain": [
       "'\\n# plot average temperatures for each month (Day column)\\ndf[\\'Month\\'] = pd.to_datetime(df[\\'Day\\']).dt.month\\n#df.reset_index()\\navg_temps_by_month = df.groupby([\"Month\", \"year\"]).aggregate(\\n    avg_temp=(\"Monthly Average Temp\", \"mean\"),\\n    countries=(\"Code\", \"count\"),\\n)\\n\\n#avg_temps_by_month = pd.melt(avg_temps_by_month, [\"Month\"], value_name=\\'Temperature (°C)\\', var_name=\"Legend\")\\n#sns.lineplot(data=avg_temps_by_month, x=\"Month\", y=\\'Temperature (°C)\\', hue=\"Legend\")\\n#df.sample(10)\\n\\n#print(avg_temps_by_month.first())\\n#avg_temps_by_month\\n#avg_temps_by_month = df.groupby(by=\"Month\").sum()\\ndisplay(avg_temps_by_month)\\n\\n# TODO: do bar chart for this\\n'"
      ]
     },
     "execution_count": 111,
     "metadata": {},
     "output_type": "execute_result"
    }
   ],
   "source": [
    "'''\n",
    "# plot average temperatures for each month (Day column)\n",
    "df['Month'] = pd.to_datetime(df['Day']).dt.month\n",
    "#df.reset_index()\n",
    "avg_temps_by_month = df.groupby([\"Month\", \"year\"]).aggregate(\n",
    "    avg_temp=(\"Monthly Average Temp\", \"mean\"),\n",
    "    countries=(\"Code\", \"count\"),\n",
    ")\n",
    "\n",
    "#avg_temps_by_month = pd.melt(avg_temps_by_month, [\"Month\"], value_name='Temperature (°C)', var_name=\"Legend\")\n",
    "#sns.lineplot(data=avg_temps_by_month, x=\"Month\", y='Temperature (°C)', hue=\"Legend\")\n",
    "#df.sample(10)\n",
    "\n",
    "#print(avg_temps_by_month.first())\n",
    "#avg_temps_by_month\n",
    "#avg_temps_by_month = df.groupby(by=\"Month\").sum()\n",
    "display(avg_temps_by_month)\n",
    "\n",
    "# TODO: do bar chart for this\n",
    "'''"
   ]
  },
  {
   "cell_type": "code",
   "execution_count": 112,
   "metadata": {},
   "outputs": [
    {
     "data": {
      "text/plain": [
       "\"\\nnew_df = pd.DataFrame()\\nnew_df['Months'] = df['Month']\\n\""
      ]
     },
     "execution_count": 112,
     "metadata": {},
     "output_type": "execute_result"
    }
   ],
   "source": [
    "'''\n",
    "new_df = pd.DataFrame()\n",
    "new_df['Months'] = df['Month']\n",
    "'''"
   ]
  },
  {
   "cell_type": "code",
   "execution_count": 113,
   "metadata": {},
   "outputs": [],
   "source": [
    "#df.drop(\"Month\", axis=1)"
   ]
  },
  {
   "cell_type": "markdown",
   "metadata": {},
   "source": [
    "# Export preprocessed dataset to new CSV file"
   ]
  },
  {
   "cell_type": "code",
   "execution_count": 114,
   "metadata": {},
   "outputs": [
    {
     "ename": "KeyboardInterrupt",
     "evalue": "",
     "output_type": "error",
     "traceback": [
      "\u001b[31m---------------------------------------------------------------------------\u001b[39m",
      "\u001b[31mKeyboardInterrupt\u001b[39m                         Traceback (most recent call last)",
      "\u001b[36mCell\u001b[39m\u001b[36m \u001b[39m\u001b[32mIn[114]\u001b[39m\u001b[32m, line 1\u001b[39m\n\u001b[32m----> \u001b[39m\u001b[32m1\u001b[39m \u001b[43mencoded_df\u001b[49m\u001b[43m.\u001b[49m\u001b[43mto_csv\u001b[49m\u001b[43m(\u001b[49m\u001b[33;43m'\u001b[39;49m\u001b[33;43m../data/processed/preprocessed_data.csv\u001b[39;49m\u001b[33;43m'\u001b[39;49m\u001b[43m,\u001b[49m\u001b[43m \u001b[49m\u001b[43mindex\u001b[49m\u001b[43m=\u001b[49m\u001b[38;5;28;43;01mFalse\u001b[39;49;00m\u001b[43m)\u001b[49m\n",
      "\u001b[36mFile \u001b[39m\u001b[32m~/School/MachineLearning/machine-learning-project/code/rain-prediction/.venv/lib/python3.11/site-packages/pandas/util/_decorators.py:333\u001b[39m, in \u001b[36mdeprecate_nonkeyword_arguments.<locals>.decorate.<locals>.wrapper\u001b[39m\u001b[34m(*args, **kwargs)\u001b[39m\n\u001b[32m    327\u001b[39m \u001b[38;5;28;01mif\u001b[39;00m \u001b[38;5;28mlen\u001b[39m(args) > num_allow_args:\n\u001b[32m    328\u001b[39m     warnings.warn(\n\u001b[32m    329\u001b[39m         msg.format(arguments=_format_argument_list(allow_args)),\n\u001b[32m    330\u001b[39m         \u001b[38;5;167;01mFutureWarning\u001b[39;00m,\n\u001b[32m    331\u001b[39m         stacklevel=find_stack_level(),\n\u001b[32m    332\u001b[39m     )\n\u001b[32m--> \u001b[39m\u001b[32m333\u001b[39m \u001b[38;5;28;01mreturn\u001b[39;00m \u001b[43mfunc\u001b[49m\u001b[43m(\u001b[49m\u001b[43m*\u001b[49m\u001b[43margs\u001b[49m\u001b[43m,\u001b[49m\u001b[43m \u001b[49m\u001b[43m*\u001b[49m\u001b[43m*\u001b[49m\u001b[43mkwargs\u001b[49m\u001b[43m)\u001b[49m\n",
      "\u001b[36mFile \u001b[39m\u001b[32m~/School/MachineLearning/machine-learning-project/code/rain-prediction/.venv/lib/python3.11/site-packages/pandas/core/generic.py:3967\u001b[39m, in \u001b[36mNDFrame.to_csv\u001b[39m\u001b[34m(self, path_or_buf, sep, na_rep, float_format, columns, header, index, index_label, mode, encoding, compression, quoting, quotechar, lineterminator, chunksize, date_format, doublequote, escapechar, decimal, errors, storage_options)\u001b[39m\n\u001b[32m   3956\u001b[39m df = \u001b[38;5;28mself\u001b[39m \u001b[38;5;28;01mif\u001b[39;00m \u001b[38;5;28misinstance\u001b[39m(\u001b[38;5;28mself\u001b[39m, ABCDataFrame) \u001b[38;5;28;01melse\u001b[39;00m \u001b[38;5;28mself\u001b[39m.to_frame()\n\u001b[32m   3958\u001b[39m formatter = DataFrameFormatter(\n\u001b[32m   3959\u001b[39m     frame=df,\n\u001b[32m   3960\u001b[39m     header=header,\n\u001b[32m   (...)\u001b[39m\u001b[32m   3964\u001b[39m     decimal=decimal,\n\u001b[32m   3965\u001b[39m )\n\u001b[32m-> \u001b[39m\u001b[32m3967\u001b[39m \u001b[38;5;28;01mreturn\u001b[39;00m \u001b[43mDataFrameRenderer\u001b[49m\u001b[43m(\u001b[49m\u001b[43mformatter\u001b[49m\u001b[43m)\u001b[49m\u001b[43m.\u001b[49m\u001b[43mto_csv\u001b[49m\u001b[43m(\u001b[49m\n\u001b[32m   3968\u001b[39m \u001b[43m    \u001b[49m\u001b[43mpath_or_buf\u001b[49m\u001b[43m,\u001b[49m\n\u001b[32m   3969\u001b[39m \u001b[43m    \u001b[49m\u001b[43mlineterminator\u001b[49m\u001b[43m=\u001b[49m\u001b[43mlineterminator\u001b[49m\u001b[43m,\u001b[49m\n\u001b[32m   3970\u001b[39m \u001b[43m    \u001b[49m\u001b[43msep\u001b[49m\u001b[43m=\u001b[49m\u001b[43msep\u001b[49m\u001b[43m,\u001b[49m\n\u001b[32m   3971\u001b[39m \u001b[43m    \u001b[49m\u001b[43mencoding\u001b[49m\u001b[43m=\u001b[49m\u001b[43mencoding\u001b[49m\u001b[43m,\u001b[49m\n\u001b[32m   3972\u001b[39m \u001b[43m    \u001b[49m\u001b[43merrors\u001b[49m\u001b[43m=\u001b[49m\u001b[43merrors\u001b[49m\u001b[43m,\u001b[49m\n\u001b[32m   3973\u001b[39m \u001b[43m    \u001b[49m\u001b[43mcompression\u001b[49m\u001b[43m=\u001b[49m\u001b[43mcompression\u001b[49m\u001b[43m,\u001b[49m\n\u001b[32m   3974\u001b[39m \u001b[43m    \u001b[49m\u001b[43mquoting\u001b[49m\u001b[43m=\u001b[49m\u001b[43mquoting\u001b[49m\u001b[43m,\u001b[49m\n\u001b[32m   3975\u001b[39m \u001b[43m    \u001b[49m\u001b[43mcolumns\u001b[49m\u001b[43m=\u001b[49m\u001b[43mcolumns\u001b[49m\u001b[43m,\u001b[49m\n\u001b[32m   3976\u001b[39m \u001b[43m    \u001b[49m\u001b[43mindex_label\u001b[49m\u001b[43m=\u001b[49m\u001b[43mindex_label\u001b[49m\u001b[43m,\u001b[49m\n\u001b[32m   3977\u001b[39m \u001b[43m    \u001b[49m\u001b[43mmode\u001b[49m\u001b[43m=\u001b[49m\u001b[43mmode\u001b[49m\u001b[43m,\u001b[49m\n\u001b[32m   3978\u001b[39m \u001b[43m    \u001b[49m\u001b[43mchunksize\u001b[49m\u001b[43m=\u001b[49m\u001b[43mchunksize\u001b[49m\u001b[43m,\u001b[49m\n\u001b[32m   3979\u001b[39m \u001b[43m    \u001b[49m\u001b[43mquotechar\u001b[49m\u001b[43m=\u001b[49m\u001b[43mquotechar\u001b[49m\u001b[43m,\u001b[49m\n\u001b[32m   3980\u001b[39m \u001b[43m    \u001b[49m\u001b[43mdate_format\u001b[49m\u001b[43m=\u001b[49m\u001b[43mdate_format\u001b[49m\u001b[43m,\u001b[49m\n\u001b[32m   3981\u001b[39m \u001b[43m    \u001b[49m\u001b[43mdoublequote\u001b[49m\u001b[43m=\u001b[49m\u001b[43mdoublequote\u001b[49m\u001b[43m,\u001b[49m\n\u001b[32m   3982\u001b[39m \u001b[43m    \u001b[49m\u001b[43mescapechar\u001b[49m\u001b[43m=\u001b[49m\u001b[43mescapechar\u001b[49m\u001b[43m,\u001b[49m\n\u001b[32m   3983\u001b[39m \u001b[43m    \u001b[49m\u001b[43mstorage_options\u001b[49m\u001b[43m=\u001b[49m\u001b[43mstorage_options\u001b[49m\u001b[43m,\u001b[49m\n\u001b[32m   3984\u001b[39m \u001b[43m\u001b[49m\u001b[43m)\u001b[49m\n",
      "\u001b[36mFile \u001b[39m\u001b[32m~/School/MachineLearning/machine-learning-project/code/rain-prediction/.venv/lib/python3.11/site-packages/pandas/io/formats/format.py:1014\u001b[39m, in \u001b[36mDataFrameRenderer.to_csv\u001b[39m\u001b[34m(self, path_or_buf, encoding, sep, columns, index_label, mode, compression, quoting, quotechar, lineterminator, chunksize, date_format, doublequote, escapechar, errors, storage_options)\u001b[39m\n\u001b[32m    993\u001b[39m     created_buffer = \u001b[38;5;28;01mFalse\u001b[39;00m\n\u001b[32m    995\u001b[39m csv_formatter = CSVFormatter(\n\u001b[32m    996\u001b[39m     path_or_buf=path_or_buf,\n\u001b[32m    997\u001b[39m     lineterminator=lineterminator,\n\u001b[32m   (...)\u001b[39m\u001b[32m   1012\u001b[39m     formatter=\u001b[38;5;28mself\u001b[39m.fmt,\n\u001b[32m   1013\u001b[39m )\n\u001b[32m-> \u001b[39m\u001b[32m1014\u001b[39m \u001b[43mcsv_formatter\u001b[49m\u001b[43m.\u001b[49m\u001b[43msave\u001b[49m\u001b[43m(\u001b[49m\u001b[43m)\u001b[49m\n\u001b[32m   1016\u001b[39m \u001b[38;5;28;01mif\u001b[39;00m created_buffer:\n\u001b[32m   1017\u001b[39m     \u001b[38;5;28;01massert\u001b[39;00m \u001b[38;5;28misinstance\u001b[39m(path_or_buf, StringIO)\n",
      "\u001b[36mFile \u001b[39m\u001b[32m~/School/MachineLearning/machine-learning-project/code/rain-prediction/.venv/lib/python3.11/site-packages/pandas/io/formats/csvs.py:270\u001b[39m, in \u001b[36mCSVFormatter.save\u001b[39m\u001b[34m(self)\u001b[39m\n\u001b[32m    251\u001b[39m \u001b[38;5;28;01mwith\u001b[39;00m get_handle(\n\u001b[32m    252\u001b[39m     \u001b[38;5;28mself\u001b[39m.filepath_or_buffer,\n\u001b[32m    253\u001b[39m     \u001b[38;5;28mself\u001b[39m.mode,\n\u001b[32m   (...)\u001b[39m\u001b[32m    258\u001b[39m ) \u001b[38;5;28;01mas\u001b[39;00m handles:\n\u001b[32m    259\u001b[39m     \u001b[38;5;66;03m# Note: self.encoding is irrelevant here\u001b[39;00m\n\u001b[32m    260\u001b[39m     \u001b[38;5;28mself\u001b[39m.writer = csvlib.writer(\n\u001b[32m    261\u001b[39m         handles.handle,\n\u001b[32m    262\u001b[39m         lineterminator=\u001b[38;5;28mself\u001b[39m.lineterminator,\n\u001b[32m   (...)\u001b[39m\u001b[32m    267\u001b[39m         quotechar=\u001b[38;5;28mself\u001b[39m.quotechar,\n\u001b[32m    268\u001b[39m     )\n\u001b[32m--> \u001b[39m\u001b[32m270\u001b[39m     \u001b[38;5;28;43mself\u001b[39;49m\u001b[43m.\u001b[49m\u001b[43m_save\u001b[49m\u001b[43m(\u001b[49m\u001b[43m)\u001b[49m\n",
      "\u001b[36mFile \u001b[39m\u001b[32m~/School/MachineLearning/machine-learning-project/code/rain-prediction/.venv/lib/python3.11/site-packages/pandas/io/formats/csvs.py:275\u001b[39m, in \u001b[36mCSVFormatter._save\u001b[39m\u001b[34m(self)\u001b[39m\n\u001b[32m    273\u001b[39m \u001b[38;5;28;01mif\u001b[39;00m \u001b[38;5;28mself\u001b[39m._need_to_save_header:\n\u001b[32m    274\u001b[39m     \u001b[38;5;28mself\u001b[39m._save_header()\n\u001b[32m--> \u001b[39m\u001b[32m275\u001b[39m \u001b[38;5;28;43mself\u001b[39;49m\u001b[43m.\u001b[49m\u001b[43m_save_body\u001b[49m\u001b[43m(\u001b[49m\u001b[43m)\u001b[49m\n",
      "\u001b[36mFile \u001b[39m\u001b[32m~/School/MachineLearning/machine-learning-project/code/rain-prediction/.venv/lib/python3.11/site-packages/pandas/io/formats/csvs.py:313\u001b[39m, in \u001b[36mCSVFormatter._save_body\u001b[39m\u001b[34m(self)\u001b[39m\n\u001b[32m    311\u001b[39m \u001b[38;5;28;01mif\u001b[39;00m start_i >= end_i:\n\u001b[32m    312\u001b[39m     \u001b[38;5;28;01mbreak\u001b[39;00m\n\u001b[32m--> \u001b[39m\u001b[32m313\u001b[39m \u001b[38;5;28;43mself\u001b[39;49m\u001b[43m.\u001b[49m\u001b[43m_save_chunk\u001b[49m\u001b[43m(\u001b[49m\u001b[43mstart_i\u001b[49m\u001b[43m,\u001b[49m\u001b[43m \u001b[49m\u001b[43mend_i\u001b[49m\u001b[43m)\u001b[49m\n",
      "\u001b[36mFile \u001b[39m\u001b[32m~/School/MachineLearning/machine-learning-project/code/rain-prediction/.venv/lib/python3.11/site-packages/pandas/io/formats/csvs.py:324\u001b[39m, in \u001b[36mCSVFormatter._save_chunk\u001b[39m\u001b[34m(self, start_i, end_i)\u001b[39m\n\u001b[32m    321\u001b[39m data = \u001b[38;5;28mlist\u001b[39m(res._iter_column_arrays())\n\u001b[32m    323\u001b[39m ix = \u001b[38;5;28mself\u001b[39m.data_index[slicer]._get_values_for_csv(**\u001b[38;5;28mself\u001b[39m._number_format)\n\u001b[32m--> \u001b[39m\u001b[32m324\u001b[39m \u001b[43mlibwriters\u001b[49m\u001b[43m.\u001b[49m\u001b[43mwrite_csv_rows\u001b[49m\u001b[43m(\u001b[49m\n\u001b[32m    325\u001b[39m \u001b[43m    \u001b[49m\u001b[43mdata\u001b[49m\u001b[43m,\u001b[49m\n\u001b[32m    326\u001b[39m \u001b[43m    \u001b[49m\u001b[43mix\u001b[49m\u001b[43m,\u001b[49m\n\u001b[32m    327\u001b[39m \u001b[43m    \u001b[49m\u001b[38;5;28;43mself\u001b[39;49m\u001b[43m.\u001b[49m\u001b[43mnlevels\u001b[49m\u001b[43m,\u001b[49m\n\u001b[32m    328\u001b[39m \u001b[43m    \u001b[49m\u001b[38;5;28;43mself\u001b[39;49m\u001b[43m.\u001b[49m\u001b[43mcols\u001b[49m\u001b[43m,\u001b[49m\n\u001b[32m    329\u001b[39m \u001b[43m    \u001b[49m\u001b[38;5;28;43mself\u001b[39;49m\u001b[43m.\u001b[49m\u001b[43mwriter\u001b[49m\u001b[43m,\u001b[49m\n\u001b[32m    330\u001b[39m \u001b[43m\u001b[49m\u001b[43m)\u001b[49m\n",
      "\u001b[36mFile \u001b[39m\u001b[32mwriters.pyx:73\u001b[39m, in \u001b[36mpandas._libs.writers.write_csv_rows\u001b[39m\u001b[34m()\u001b[39m\n",
      "\u001b[31mKeyboardInterrupt\u001b[39m: "
     ]
    }
   ],
   "source": [
    "encoded_df.to_csv('../data/processed/preprocessed_data.csv', index=False)"
   ]
  }
 ],
 "metadata": {
  "kernelspec": {
   "display_name": ".venv",
   "language": "python",
   "name": "python3"
  },
  "language_info": {
   "codemirror_mode": {
    "name": "ipython",
    "version": 3
   },
   "file_extension": ".py",
   "mimetype": "text/x-python",
   "name": "python",
   "nbconvert_exporter": "python",
   "pygments_lexer": "ipython3",
   "version": "3.11.1"
  }
 },
 "nbformat": 4,
 "nbformat_minor": 2
}
